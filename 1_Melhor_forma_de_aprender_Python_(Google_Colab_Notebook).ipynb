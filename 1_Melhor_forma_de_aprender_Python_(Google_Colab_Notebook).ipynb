{
  "nbformat": 4,
  "nbformat_minor": 0,
  "metadata": {
    "colab": {
      "name": "1. Melhor forma de aprender Python (Google Colab Notebook).ipynb ",
      "provenance": [],
      "collapsed_sections": []
    },
    "kernelspec": {
      "name": "python3",
      "display_name": "Python 3"
    }
  },
  "cells": [
    {
      "cell_type": "code",
      "metadata": {
        "id": "8XbsfqBPfBlT",
        "colab_type": "code",
        "outputId": "fe68b86a-3b99-4b10-9760-306ee0c189e2",
        "colab": {
          "base_uri": "https://localhost:8080/",
          "height": 34
        }
      },
      "source": [
        "nome = \"Klemerson\"\n",
        "print(nome)"
      ],
      "execution_count": 0,
      "outputs": [
        {
          "output_type": "stream",
          "text": [
            "Klemerson\n"
          ],
          "name": "stdout"
        }
      ]
    },
    {
      "cell_type": "code",
      "metadata": {
        "id": "PWlhBz6jhaT4",
        "colab_type": "code",
        "outputId": "abd1a4c8-2b72-4867-84ba-e966b6301e59",
        "colab": {
          "base_uri": "https://localhost:8080/",
          "height": 34
        }
      },
      "source": [
        "nome"
      ],
      "execution_count": 0,
      "outputs": [
        {
          "output_type": "execute_result",
          "data": {
            "text/plain": [
              "'Klemerson'"
            ]
          },
          "metadata": {
            "tags": []
          },
          "execution_count": 6
        }
      ]
    },
    {
      "cell_type": "code",
      "metadata": {
        "id": "n4MCrECihp0x",
        "colab_type": "code",
        "outputId": "bd76c709-dd20-49b7-8715-0754d81c4e5c",
        "colab": {
          "base_uri": "https://localhost:8080/",
          "height": 35
        }
      },
      "source": [
        "idade = 24\n",
        "idade"
      ],
      "execution_count": 0,
      "outputs": [
        {
          "output_type": "execute_result",
          "data": {
            "text/plain": [
              "24"
            ]
          },
          "metadata": {
            "tags": []
          },
          "execution_count": 1
        }
      ]
    },
    {
      "cell_type": "code",
      "metadata": {
        "id": "UGAQpTY5h6NV",
        "colab_type": "code",
        "outputId": "280e173d-cd86-49a7-c03e-55f45d1aefcd",
        "colab": {
          "base_uri": "https://localhost:8080/",
          "height": 35
        }
      },
      "source": [
        "idade - 4"
      ],
      "execution_count": 0,
      "outputs": [
        {
          "output_type": "execute_result",
          "data": {
            "text/plain": [
              "20"
            ]
          },
          "metadata": {
            "tags": []
          },
          "execution_count": 3
        }
      ]
    },
    {
      "cell_type": "code",
      "metadata": {
        "id": "2bs8yukciA77",
        "colab_type": "code",
        "outputId": "6d23ee51-46f6-4645-ccc5-20eab18c5aab",
        "colab": {
          "base_uri": "https://localhost:8080/",
          "height": 35
        }
      },
      "source": [
        "idade"
      ],
      "execution_count": 0,
      "outputs": [
        {
          "output_type": "execute_result",
          "data": {
            "text/plain": [
              "24"
            ]
          },
          "metadata": {
            "tags": []
          },
          "execution_count": 4
        }
      ]
    },
    {
      "cell_type": "code",
      "metadata": {
        "id": "BhbxKVq6iEgE",
        "colab_type": "code",
        "outputId": "827f5b80-11d9-4363-8fef-30e2bf9c79b8",
        "colab": {
          "base_uri": "https://localhost:8080/",
          "height": 51
        }
      },
      "source": [
        "def mais_um_ano(idade) :\n",
        "  print(\"ta dentro desta função\")\n",
        "  return idade + 1\n",
        "\n",
        "mais_um_ano(25)"
      ],
      "execution_count": 0,
      "outputs": [
        {
          "output_type": "stream",
          "text": [
            "ta dentro desta função\n"
          ],
          "name": "stdout"
        },
        {
          "output_type": "execute_result",
          "data": {
            "text/plain": [
              "26"
            ]
          },
          "metadata": {
            "tags": []
          },
          "execution_count": 19
        }
      ]
    },
    {
      "cell_type": "code",
      "metadata": {
        "id": "KWq5qwfLjyBJ",
        "colab_type": "code",
        "colab": {}
      },
      "source": [
        "filme1 = \"Toy Store 17\"\n",
        "filme2 = \"A Xuxa contra o Baixo Astral\"\n",
        "filme3 = \"Matriz 1\"\n"
      ],
      "execution_count": 0,
      "outputs": []
    },
    {
      "cell_type": "code",
      "metadata": {
        "id": "-SBUb13BkA7u",
        "colab_type": "code",
        "outputId": "c856e863-b83a-412a-ea1a-2b9d044c1984",
        "colab": {
          "base_uri": "https://localhost:8080/",
          "height": 34
        }
      },
      "source": [
        "filmes = [\"Toy Story 17\", \"Xuxa contra o Baixo Astral\", \"Matriz 1\"]\n",
        "filmes\n"
      ],
      "execution_count": 0,
      "outputs": [
        {
          "output_type": "execute_result",
          "data": {
            "text/plain": [
              "['Toy Story 17', 'Xuxa contra o Baixo Astral', 'Matriz 1']"
            ]
          },
          "metadata": {
            "tags": []
          },
          "execution_count": 20
        }
      ]
    },
    {
      "cell_type": "code",
      "metadata": {
        "id": "1bAiuu-GkQpe",
        "colab_type": "code",
        "outputId": "d3a068aa-4244-4329-d987-12908c8fa3e1",
        "colab": {
          "base_uri": "https://localhost:8080/",
          "height": 85
        }
      },
      "source": [
        "def imprime_filmes(filmes) :\n",
        "  print(\"A lista de filmes que eu tenho disponível\")\n",
        "  print(filmes[0])\n",
        "  print(filmes[1])\n",
        "  print(filmes[2])\n",
        "\n",
        "imprime_filmes(filmes)"
      ],
      "execution_count": 0,
      "outputs": [
        {
          "output_type": "stream",
          "text": [
            "A lista de filmes que eu tenho disponível\n",
            "Toy Story 17\n",
            "Xuxa contra o Baixo Astral\n",
            "Matriz 1\n"
          ],
          "name": "stdout"
        }
      ]
    },
    {
      "cell_type": "code",
      "metadata": {
        "id": "fT7TBBoek8e9",
        "colab_type": "code",
        "outputId": "e404a74a-7f1e-4937-b346-822d564a83d3",
        "colab": {
          "base_uri": "https://localhost:8080/",
          "height": 34
        }
      },
      "source": [
        "filmes[-1]"
      ],
      "execution_count": 0,
      "outputs": [
        {
          "output_type": "execute_result",
          "data": {
            "text/plain": [
              "'Matriz 1'"
            ]
          },
          "metadata": {
            "tags": []
          },
          "execution_count": 27
        }
      ]
    },
    {
      "cell_type": "code",
      "metadata": {
        "id": "AqjgjCNql31I",
        "colab_type": "code",
        "outputId": "da78d46b-f362-4fef-bce5-7b35f53f80a7",
        "colab": {
          "base_uri": "https://localhost:8080/",
          "height": 34
        }
      },
      "source": [
        "filmes[1:]"
      ],
      "execution_count": 0,
      "outputs": [
        {
          "output_type": "execute_result",
          "data": {
            "text/plain": [
              "['Xuxa contra o Baixo Astral', 'Matriz 1']"
            ]
          },
          "metadata": {
            "tags": []
          },
          "execution_count": 28
        }
      ]
    },
    {
      "cell_type": "code",
      "metadata": {
        "id": "S80V5J7VmA6t",
        "colab_type": "code",
        "outputId": "c191e498-3803-44f0-a2b0-ec7f826744ac",
        "colab": {
          "base_uri": "https://localhost:8080/",
          "height": 68
        }
      },
      "source": [
        "for filme in filmes :\n",
        "  print(filme)"
      ],
      "execution_count": 0,
      "outputs": [
        {
          "output_type": "stream",
          "text": [
            "Toy Story 17\n",
            "Xuxa contra o Baixo Astral\n",
            "Matriz 1\n"
          ],
          "name": "stdout"
        }
      ]
    },
    {
      "cell_type": "code",
      "metadata": {
        "id": "xS1BwNg6m1T2",
        "colab_type": "code",
        "outputId": "c828dbdc-e714-4086-a3c6-43ee2ed753f4",
        "colab": {
          "base_uri": "https://localhost:8080/",
          "height": 85
        }
      },
      "source": [
        "def imprime_filmes(filmes) :\n",
        "  print(\"A lista de filmes que eu tenho disponível\")\n",
        "  for filme in filmes :\n",
        "    print(filme)\n",
        "\n",
        "imprime_filmes(filmes)"
      ],
      "execution_count": 0,
      "outputs": [
        {
          "output_type": "stream",
          "text": [
            "A lista de filmes que eu tenho disponível\n",
            "Toy Story 17\n",
            "Xuxa contra o Baixo Astral\n",
            "Matriz 1\n"
          ],
          "name": "stdout"
        }
      ]
    },
    {
      "cell_type": "code",
      "metadata": {
        "id": "tSB1h9yInfl9",
        "colab_type": "code",
        "outputId": "f6a7b461-2125-4ff3-b536-90ac003eb801",
        "colab": {
          "base_uri": "https://localhost:8080/",
          "height": 35
        }
      },
      "source": [
        "dados = {\"nome\"  : \"Guilherme\", \n",
        "         \"idade\" : 37, \n",
        "         \"empresa\" : \"Aluno\"}\n",
        "dados"
      ],
      "execution_count": 0,
      "outputs": [
        {
          "output_type": "execute_result",
          "data": {
            "text/plain": [
              "{'empresa': 'Aluno', 'idade': 37, 'nome': 'Guilherme'}"
            ]
          },
          "metadata": {
            "tags": []
          },
          "execution_count": 5
        }
      ]
    },
    {
      "cell_type": "code",
      "metadata": {
        "id": "wELgiGeqoByb",
        "colab_type": "code",
        "outputId": "7c86fd9f-b493-48a3-bdaa-8ffcc0ef82ed",
        "colab": {
          "base_uri": "https://localhost:8080/",
          "height": 34
        }
      },
      "source": [
        "dados[\"empresa\"]"
      ],
      "execution_count": 0,
      "outputs": [
        {
          "output_type": "execute_result",
          "data": {
            "text/plain": [
              "'Aluno'"
            ]
          },
          "metadata": {
            "tags": []
          },
          "execution_count": 33
        }
      ]
    },
    {
      "cell_type": "code",
      "metadata": {
        "id": "2E7-ZVDZsndH",
        "colab_type": "code",
        "colab": {}
      },
      "source": [
        ""
      ],
      "execution_count": 0,
      "outputs": []
    }
  ]
}