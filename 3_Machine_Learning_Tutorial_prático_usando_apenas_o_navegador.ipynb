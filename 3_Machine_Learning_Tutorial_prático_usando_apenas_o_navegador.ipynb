{
  "nbformat": 4,
  "nbformat_minor": 0,
  "metadata": {
    "colab": {
      "name": "3. Machine Learning: Tutorial prático usando apenas o navegador.ipynb",
      "provenance": [],
      "collapsed_sections": []
    },
    "kernelspec": {
      "name": "python3",
      "display_name": "Python 3"
    }
  },
  "cells": [
    {
      "cell_type": "markdown",
      "metadata": {
        "id": "y05B8n1ET-ju",
        "colab_type": "text"
      },
      "source": [
        "## **Machine Learn de Classificação**\n",
        "### com **sklearn.svm import LinearSVC()**"
      ]
    },
    {
      "cell_type": "code",
      "metadata": {
        "id": "gRXCP0syhbJj",
        "colab_type": "code",
        "colab": {}
      },
      "source": [
        "# Tentar adivinhar se o animal é cachorro ou porco com base nas seguintes características.\n",
        "# 1 - pelo longo?\n",
        "# 2 - perna curto?\n",
        "# 3 - faz auau?\n",
        "\n",
        "# características do porco\n",
        "porco1 = [0, 1, 0]\n",
        "porco2 = [0, 1, 1]\n",
        "porco3 = [1, 1, 0]\n",
        "# características do cachorro\n",
        "cachorro1 = [0, 1, 1]\n",
        "cachorro2 = [1, 0, 1]\n",
        "cachorro3 = [1, 1, 1]\n",
        "\n",
        "treino_x = [porco1, porco2, porco3, cachorro1, cachorro2, cachorro3]\n",
        "treino_y = [1,1,1,0,0,0] # 0 = cachorro | 1 = porco\n"
      ],
      "execution_count": 0,
      "outputs": []
    },
    {
      "cell_type": "code",
      "metadata": {
        "id": "YEShsKrvlESB",
        "colab_type": "code",
        "outputId": "2f4bd97c-e89d-454a-c8da-4b0318b2a65b",
        "colab": {
          "base_uri": "https://localhost:8080/",
          "height": 90
        }
      },
      "source": [
        "from sklearn.svm import LinearSVC #Importando os pacotes\n",
        "\n",
        "modelo = LinearSVC() # Modelo de aprendizado, ainda vázio.\n",
        "modelo.fit(treino_x, treino_y) \n",
        "# Modelo treinando com base nas informações.\n",
        "# O modelo relaciona as informações do primeiro parâmetro com o segundo parâmetro."
      ],
      "execution_count": 0,
      "outputs": [
        {
          "output_type": "execute_result",
          "data": {
            "text/plain": [
              "LinearSVC(C=1.0, class_weight=None, dual=True, fit_intercept=True,\n",
              "          intercept_scaling=1, loss='squared_hinge', max_iter=1000,\n",
              "          multi_class='ovr', penalty='l2', random_state=None, tol=0.0001,\n",
              "          verbose=0)"
            ]
          },
          "metadata": {
            "tags": []
          },
          "execution_count": 3
        }
      ]
    },
    {
      "cell_type": "code",
      "metadata": {
        "id": "XGmpqaF4o19o",
        "colab_type": "code",
        "outputId": "956dd556-0c3c-4d28-fd5d-f03b0276f019",
        "colab": {
          "base_uri": "https://localhost:8080/",
          "height": 35
        }
      },
      "source": [
        "animal_misterioso = [1, 1, 1]\n",
        "modelo.predict([animal_misterioso]) # Prevê o animal_misterioso"
      ],
      "execution_count": 0,
      "outputs": [
        {
          "output_type": "execute_result",
          "data": {
            "text/plain": [
              "array([0])"
            ]
          },
          "metadata": {
            "tags": []
          },
          "execution_count": 4
        }
      ]
    },
    {
      "cell_type": "markdown",
      "metadata": {
        "id": "xxyXN7UTncBs",
        "colab_type": "text"
      },
      "source": [
        ">><p>&uarr;&uarr;&uarr; Acertou</p>"
      ]
    },
    {
      "cell_type": "code",
      "metadata": {
        "id": "Ga-utDmsp3SR",
        "colab_type": "code",
        "colab": {}
      },
      "source": [
        "misterio1 = [1, 1, 1]\n",
        "misterio2 = [1, 1, 0]\n",
        "misterio3 = [0, 1, 1]\n",
        "\n",
        "teste_x = [misterio1, misterio2, misterio3]\n",
        "teste_y = [0, 1, 1] # O que se sabe dos animais de cima"
      ],
      "execution_count": 0,
      "outputs": []
    },
    {
      "cell_type": "code",
      "metadata": {
        "id": "d06R45gxqo5P",
        "colab_type": "code",
        "outputId": "314610a4-da60-4c29-b4ea-8d23a8841c85",
        "colab": {
          "base_uri": "https://localhost:8080/",
          "height": 35
        }
      },
      "source": [
        "previsoes = modelo.predict(teste_x)\n",
        "previsoes"
      ],
      "execution_count": 0,
      "outputs": [
        {
          "output_type": "execute_result",
          "data": {
            "text/plain": [
              "array([0, 1, 0])"
            ]
          },
          "metadata": {
            "tags": []
          },
          "execution_count": 6
        }
      ]
    },
    {
      "cell_type": "markdown",
      "metadata": {
        "id": "zaFIwJxfsUOM",
        "colab_type": "text"
      },
      "source": [
        ">><p>&uarr;&uarr;&uarr; Acertou os dois primeiros animais e errou o último</p>"
      ]
    },
    {
      "cell_type": "markdown",
      "metadata": {
        "id": "LjItNLVwgLvI",
        "colab_type": "text"
      },
      "source": [
        "**Calculando métricas do resultado**<br>\n",
        "**Calculando a taxa de acerto**"
      ]
    },
    {
      "cell_type": "code",
      "metadata": {
        "id": "S-UKLqBxgXuF",
        "colab_type": "code",
        "outputId": "b8d58d53-25c5-4ce0-9b63-b63017cd330b",
        "colab": {
          "base_uri": "https://localhost:8080/",
          "height": 35
        }
      },
      "source": [
        "from sklearn.metrics import accuracy_score #taxa de acerto\n",
        "\n",
        "accuracy_score(teste_y, previsoes)\n",
        "#primeiro parâmetro o o resultado certo e o segundo parâmetro é o resultado previsto pela modelo.\n",
        "#retorna a porcentagem da taxa de acerto"
      ],
      "execution_count": 0,
      "outputs": [
        {
          "output_type": "execute_result",
          "data": {
            "text/plain": [
              "0.6666666666666666"
            ]
          },
          "metadata": {
            "tags": []
          },
          "execution_count": 8
        }
      ]
    },
    {
      "cell_type": "markdown",
      "metadata": {
        "id": "YQxqvNKJ28Zu",
        "colab_type": "text"
      },
      "source": [
        "# Outro Exempo"
      ]
    },
    {
      "cell_type": "code",
      "metadata": {
        "id": "fF_vxNo2n8bl",
        "colab_type": "code",
        "outputId": "6b53cae9-d817-47e0-87a9-1ba18a685aad",
        "colab": {
          "base_uri": "https://localhost:8080/",
          "height": 198
        }
      },
      "source": [
        "import pandas as pd\n",
        "\n",
        "uri = \"https://gist.githubusercontent.com/guilhermesilveira/2d2efa37d66b6c84a722ea627a897ced/raw/10968b997d885cbded1c92938c7a9912ba41c615/tracking.csv\"\n",
        "dados = pd.read_csv(uri)\n",
        "dados.head() #mostra as 5 primeiras tuplas\n",
        "\n",
        "#### Arquivo csv - Dados de acesso de um site\n",
        "#home = acessou a página inicial\n",
        "#how_it_works = acessou a página de como funciona o site/produto\n",
        "#contact = pagina de contato\n",
        "#bought = comprou produto\n",
        "\n",
        "# Problema: \n",
        "# Deduzir de acordo com as páginas acessadas se a pessoa pode comprar ou não.\n",
        "# A idéia seria mostrar um pop up para o usuário que provavelmente não compraria.\n"
      ],
      "execution_count": 0,
      "outputs": [
        {
          "output_type": "execute_result",
          "data": {
            "text/html": [
              "<div>\n",
              "<style scoped>\n",
              "    .dataframe tbody tr th:only-of-type {\n",
              "        vertical-align: middle;\n",
              "    }\n",
              "\n",
              "    .dataframe tbody tr th {\n",
              "        vertical-align: top;\n",
              "    }\n",
              "\n",
              "    .dataframe thead th {\n",
              "        text-align: right;\n",
              "    }\n",
              "</style>\n",
              "<table border=\"1\" class=\"dataframe\">\n",
              "  <thead>\n",
              "    <tr style=\"text-align: right;\">\n",
              "      <th></th>\n",
              "      <th>home</th>\n",
              "      <th>how_it_works</th>\n",
              "      <th>contact</th>\n",
              "      <th>bought</th>\n",
              "    </tr>\n",
              "  </thead>\n",
              "  <tbody>\n",
              "    <tr>\n",
              "      <th>0</th>\n",
              "      <td>1</td>\n",
              "      <td>1</td>\n",
              "      <td>0</td>\n",
              "      <td>0</td>\n",
              "    </tr>\n",
              "    <tr>\n",
              "      <th>1</th>\n",
              "      <td>1</td>\n",
              "      <td>1</td>\n",
              "      <td>0</td>\n",
              "      <td>0</td>\n",
              "    </tr>\n",
              "    <tr>\n",
              "      <th>2</th>\n",
              "      <td>1</td>\n",
              "      <td>1</td>\n",
              "      <td>0</td>\n",
              "      <td>0</td>\n",
              "    </tr>\n",
              "    <tr>\n",
              "      <th>3</th>\n",
              "      <td>1</td>\n",
              "      <td>1</td>\n",
              "      <td>0</td>\n",
              "      <td>0</td>\n",
              "    </tr>\n",
              "    <tr>\n",
              "      <th>4</th>\n",
              "      <td>1</td>\n",
              "      <td>1</td>\n",
              "      <td>0</td>\n",
              "      <td>0</td>\n",
              "    </tr>\n",
              "  </tbody>\n",
              "</table>\n",
              "</div>"
            ],
            "text/plain": [
              "   home  how_it_works  contact  bought\n",
              "0     1             1        0       0\n",
              "1     1             1        0       0\n",
              "2     1             1        0       0\n",
              "3     1             1        0       0\n",
              "4     1             1        0       0"
            ]
          },
          "metadata": {
            "tags": []
          },
          "execution_count": 26
        }
      ]
    },
    {
      "cell_type": "code",
      "metadata": {
        "id": "ncfNxeqMn-C2",
        "colab_type": "code",
        "outputId": "3afb198f-c74e-4715-9eb4-7634d006d51d",
        "colab": {
          "base_uri": "https://localhost:8080/",
          "height": 198
        }
      },
      "source": [
        "dados.sample(5) # Mostra 5 tuplas aleatórias"
      ],
      "execution_count": 0,
      "outputs": [
        {
          "output_type": "execute_result",
          "data": {
            "text/html": [
              "<div>\n",
              "<style scoped>\n",
              "    .dataframe tbody tr th:only-of-type {\n",
              "        vertical-align: middle;\n",
              "    }\n",
              "\n",
              "    .dataframe tbody tr th {\n",
              "        vertical-align: top;\n",
              "    }\n",
              "\n",
              "    .dataframe thead th {\n",
              "        text-align: right;\n",
              "    }\n",
              "</style>\n",
              "<table border=\"1\" class=\"dataframe\">\n",
              "  <thead>\n",
              "    <tr style=\"text-align: right;\">\n",
              "      <th></th>\n",
              "      <th>home</th>\n",
              "      <th>how_it_works</th>\n",
              "      <th>contact</th>\n",
              "      <th>bought</th>\n",
              "    </tr>\n",
              "  </thead>\n",
              "  <tbody>\n",
              "    <tr>\n",
              "      <th>0</th>\n",
              "      <td>1</td>\n",
              "      <td>1</td>\n",
              "      <td>0</td>\n",
              "      <td>0</td>\n",
              "    </tr>\n",
              "    <tr>\n",
              "      <th>77</th>\n",
              "      <td>0</td>\n",
              "      <td>1</td>\n",
              "      <td>0</td>\n",
              "      <td>0</td>\n",
              "    </tr>\n",
              "    <tr>\n",
              "      <th>24</th>\n",
              "      <td>1</td>\n",
              "      <td>0</td>\n",
              "      <td>1</td>\n",
              "      <td>1</td>\n",
              "    </tr>\n",
              "    <tr>\n",
              "      <th>95</th>\n",
              "      <td>1</td>\n",
              "      <td>1</td>\n",
              "      <td>1</td>\n",
              "      <td>1</td>\n",
              "    </tr>\n",
              "    <tr>\n",
              "      <th>2</th>\n",
              "      <td>1</td>\n",
              "      <td>1</td>\n",
              "      <td>0</td>\n",
              "      <td>0</td>\n",
              "    </tr>\n",
              "  </tbody>\n",
              "</table>\n",
              "</div>"
            ],
            "text/plain": [
              "    home  how_it_works  contact  bought\n",
              "0      1             1        0       0\n",
              "77     0             1        0       0\n",
              "24     1             0        1       1\n",
              "95     1             1        1       1\n",
              "2      1             1        0       0"
            ]
          },
          "metadata": {
            "tags": []
          },
          "execution_count": 24
        }
      ]
    },
    {
      "cell_type": "code",
      "metadata": {
        "id": "Q6RJ3zAwq4gB",
        "colab_type": "code",
        "outputId": "35a36de9-0fb6-436f-975f-de5c9a4a71e9",
        "colab": {
          "base_uri": "https://localhost:8080/",
          "height": 407
        }
      },
      "source": [
        "x = dados[[\"home\",\"how_it_works\",\"contact\"]] \n",
        "# Joga na variável \"x\" as 3 primeiras colunas\n",
        "x"
      ],
      "execution_count": 0,
      "outputs": [
        {
          "output_type": "execute_result",
          "data": {
            "text/html": [
              "<div>\n",
              "<style scoped>\n",
              "    .dataframe tbody tr th:only-of-type {\n",
              "        vertical-align: middle;\n",
              "    }\n",
              "\n",
              "    .dataframe tbody tr th {\n",
              "        vertical-align: top;\n",
              "    }\n",
              "\n",
              "    .dataframe thead th {\n",
              "        text-align: right;\n",
              "    }\n",
              "</style>\n",
              "<table border=\"1\" class=\"dataframe\">\n",
              "  <thead>\n",
              "    <tr style=\"text-align: right;\">\n",
              "      <th></th>\n",
              "      <th>home</th>\n",
              "      <th>how_it_works</th>\n",
              "      <th>contact</th>\n",
              "    </tr>\n",
              "  </thead>\n",
              "  <tbody>\n",
              "    <tr>\n",
              "      <th>0</th>\n",
              "      <td>1</td>\n",
              "      <td>1</td>\n",
              "      <td>0</td>\n",
              "    </tr>\n",
              "    <tr>\n",
              "      <th>1</th>\n",
              "      <td>1</td>\n",
              "      <td>1</td>\n",
              "      <td>0</td>\n",
              "    </tr>\n",
              "    <tr>\n",
              "      <th>2</th>\n",
              "      <td>1</td>\n",
              "      <td>1</td>\n",
              "      <td>0</td>\n",
              "    </tr>\n",
              "    <tr>\n",
              "      <th>3</th>\n",
              "      <td>1</td>\n",
              "      <td>1</td>\n",
              "      <td>0</td>\n",
              "    </tr>\n",
              "    <tr>\n",
              "      <th>4</th>\n",
              "      <td>1</td>\n",
              "      <td>1</td>\n",
              "      <td>0</td>\n",
              "    </tr>\n",
              "    <tr>\n",
              "      <th>...</th>\n",
              "      <td>...</td>\n",
              "      <td>...</td>\n",
              "      <td>...</td>\n",
              "    </tr>\n",
              "    <tr>\n",
              "      <th>94</th>\n",
              "      <td>0</td>\n",
              "      <td>0</td>\n",
              "      <td>1</td>\n",
              "    </tr>\n",
              "    <tr>\n",
              "      <th>95</th>\n",
              "      <td>1</td>\n",
              "      <td>1</td>\n",
              "      <td>1</td>\n",
              "    </tr>\n",
              "    <tr>\n",
              "      <th>96</th>\n",
              "      <td>0</td>\n",
              "      <td>0</td>\n",
              "      <td>1</td>\n",
              "    </tr>\n",
              "    <tr>\n",
              "      <th>97</th>\n",
              "      <td>0</td>\n",
              "      <td>1</td>\n",
              "      <td>0</td>\n",
              "    </tr>\n",
              "    <tr>\n",
              "      <th>98</th>\n",
              "      <td>0</td>\n",
              "      <td>0</td>\n",
              "      <td>0</td>\n",
              "    </tr>\n",
              "  </tbody>\n",
              "</table>\n",
              "<p>99 rows × 3 columns</p>\n",
              "</div>"
            ],
            "text/plain": [
              "    home  how_it_works  contact\n",
              "0      1             1        0\n",
              "1      1             1        0\n",
              "2      1             1        0\n",
              "3      1             1        0\n",
              "4      1             1        0\n",
              "..   ...           ...      ...\n",
              "94     0             0        1\n",
              "95     1             1        1\n",
              "96     0             0        1\n",
              "97     0             1        0\n",
              "98     0             0        0\n",
              "\n",
              "[99 rows x 3 columns]"
            ]
          },
          "metadata": {
            "tags": []
          },
          "execution_count": 25
        }
      ]
    },
    {
      "cell_type": "code",
      "metadata": {
        "id": "6_NUmtff2AQ_",
        "colab_type": "code",
        "outputId": "af0dcf34-5e15-4c7b-a7ed-9c33262c3e50",
        "colab": {
          "base_uri": "https://localhost:8080/",
          "height": 235
        }
      },
      "source": [
        "y = dados[\"bought\"]\n",
        "# Joga na variável \"y\" a última cóluna\n",
        "y"
      ],
      "execution_count": 0,
      "outputs": [
        {
          "output_type": "execute_result",
          "data": {
            "text/plain": [
              "0     0\n",
              "1     0\n",
              "2     0\n",
              "3     0\n",
              "4     0\n",
              "     ..\n",
              "94    0\n",
              "95    1\n",
              "96    0\n",
              "97    0\n",
              "98    0\n",
              "Name: bought, Length: 99, dtype: int64"
            ]
          },
          "metadata": {
            "tags": []
          },
          "execution_count": 27
        }
      ]
    },
    {
      "cell_type": "code",
      "metadata": {
        "id": "KxUUNtsL-iOf",
        "colab_type": "code",
        "colab": {}
      },
      "source": [
        ""
      ],
      "execution_count": 0,
      "outputs": []
    },
    {
      "cell_type": "markdown",
      "metadata": {
        "id": "x2jFqSnt-jSy",
        "colab_type": "text"
      },
      "source": [
        "from sklearn.svm import **tran_test_split**<br> \n",
        "Função que divide os dados de treino e teste que estão dentro de:\n",
        "* lits \n",
        "* numpy arrays \n",
        "* scipy-sparse matrices\n",
        "* pandas dataframes "
      ]
    },
    {
      "cell_type": "code",
      "metadata": {
        "id": "hdKNmK0qP3lx",
        "colab_type": "code",
        "colab": {}
      },
      "source": [
        "from sklearn.model_selection import train_test_split\n",
        "# Dividindo os dados de treino e teste que estão todos juntos em x e y\n",
        "treino_x, teste_x, treino_y, teste_y = train_test_split(x, y)\n",
        "#x são as características\n",
        "#y são os resultados"
      ],
      "execution_count": 0,
      "outputs": []
    },
    {
      "cell_type": "code",
      "metadata": {
        "id": "jbFVJDXfP9c9",
        "colab_type": "code",
        "outputId": "24b24c74-39a9-42d2-c1e9-12139837b259",
        "colab": {
          "base_uri": "https://localhost:8080/",
          "height": 90
        }
      },
      "source": [
        "# Por padrão a função train_teste_split(x,y) \n",
        "# separa 75% dos dados para treino\n",
        "# e 25% para teste\n",
        "print(\"Dados para treino:\")\n",
        "print(treino_x.shape)\n",
        "print(\"Dados para teste: \")\n",
        "print(teste_x.shape)"
      ],
      "execution_count": 0,
      "outputs": [
        {
          "output_type": "stream",
          "text": [
            "Dados para treino:\n",
            "(74, 3)\n",
            "Dados para teste: \n",
            "(25, 3)\n"
          ],
          "name": "stdout"
        }
      ]
    },
    {
      "cell_type": "code",
      "metadata": {
        "id": "a0dojKYX21wX",
        "colab_type": "code",
        "outputId": "d54bf6fe-11fc-49b8-d18e-1859d01ecc11",
        "colab": {
          "base_uri": "https://localhost:8080/",
          "height": 35
        }
      },
      "source": [
        "\n",
        "from sklearn.svm import LinearSVC # Modelo de Aprendizado por Classificação\n",
        "\n",
        "modelo = LinearSVC(); # Instanciando o modelo de aprendizagem\n",
        "modelo.fit(treino_x, treino_y); # Treinando\n",
        "\n",
        "previsoes = modelo.predict(teste_x); # Testando\n",
        "accuracy_score(teste_y, previsoes) * 100 # Verificando a porcentagem de acerto"
      ],
      "execution_count": 0,
      "outputs": [
        {
          "output_type": "execute_result",
          "data": {
            "text/plain": [
              "100.0"
            ]
          },
          "metadata": {
            "tags": []
          },
          "execution_count": 41
        }
      ]
    },
    {
      "cell_type": "code",
      "metadata": {
        "id": "-QMLh3OrZZsB",
        "colab_type": "code",
        "colab": {}
      },
      "source": [
        ""
      ],
      "execution_count": 0,
      "outputs": []
    }
  ]
}