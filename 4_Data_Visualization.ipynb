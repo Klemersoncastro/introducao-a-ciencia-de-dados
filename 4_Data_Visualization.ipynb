{
 "cells": [
  {
   "cell_type": "code",
   "execution_count": 0,
   "metadata": {
    "colab": {},
    "colab_type": "code",
    "id": "wlQpCGbxnKPe"
   },
   "outputs": [],
   "source": [
    "import pandas as pd\n",
    "\n",
    "#PEGA OS DADOS DOS FILMES\n",
    "# movieId, title e genres\n",
    "uri = \"https://raw.githubusercontent.com/alura-cursos/introducao-a-data-science/master/aula4.1/movies.csv\"\n",
    "\n",
    "filmes = pd.read_csv(uri) # data frame # lê os filmes\n",
    "filmes.columns = [\"filmeId\", \"titulo\", \"generos\"] # muda o nome das colunas\n",
    "filmes = filmes.set_index('filmeId') # deixa a coluna \"filmeId\" como index / coluna princípal\n",
    "# Transforma a coluna de gêneros em várias colunas de cada um dos tipos de gêneros que aparece no no arquivo csv na coluna gênero\n",
    "filmes = filmes.join(filmes['generos'].str.get_dummies()).drop('generos', axis=1) \n",
    "filmes['ano'] = filmes['titulo'].str.extract(r'.*\\((\\d+)\\)') # Acrescenta uma coluna \"ano\" e o preenche com os anos extraídos do nome de cada filme\n",
    "filmes = filmes.dropna() # Deleta as linhas que estejam faltando valores preenchidos"
   ]
  },
  {
   "cell_type": "code",
   "execution_count": 69,
   "metadata": {
    "colab": {
     "base_uri": "https://localhost:8080/",
     "height": 442
    },
    "colab_type": "code",
    "executionInfo": {
     "elapsed": 4853,
     "status": "ok",
     "timestamp": 1585157000566,
     "user": {
      "displayName": "Klemerson Castro",
      "photoUrl": "https://lh3.googleusercontent.com/a-/AOh14Ggzj4QczTA45gnWEL1DDR7i2MgcFp-D--Le_dT-vg=s64",
      "userId": "03022081006698772953"
     },
     "user_tz": 240
    },
    "id": "IFy5d6CJIBOj",
    "outputId": "8ed95cbd-cd76-433f-9bd4-65fdc4ca9475"
   },
   "outputs": [
    {
     "data": {
      "text/html": [
       "<div>\n",
       "<style scoped>\n",
       "    .dataframe tbody tr th:only-of-type {\n",
       "        vertical-align: middle;\n",
       "    }\n",
       "\n",
       "    .dataframe tbody tr th {\n",
       "        vertical-align: top;\n",
       "    }\n",
       "\n",
       "    .dataframe thead th {\n",
       "        text-align: right;\n",
       "    }\n",
       "</style>\n",
       "<table border=\"1\" class=\"dataframe\">\n",
       "  <thead>\n",
       "    <tr style=\"text-align: right;\">\n",
       "      <th></th>\n",
       "      <th>titulo</th>\n",
       "      <th>(no genres listed)</th>\n",
       "      <th>Action</th>\n",
       "      <th>Adventure</th>\n",
       "      <th>Animation</th>\n",
       "      <th>Children</th>\n",
       "      <th>Comedy</th>\n",
       "      <th>Crime</th>\n",
       "      <th>Documentary</th>\n",
       "      <th>Drama</th>\n",
       "      <th>Fantasy</th>\n",
       "      <th>Film-Noir</th>\n",
       "      <th>Horror</th>\n",
       "      <th>IMAX</th>\n",
       "      <th>Musical</th>\n",
       "      <th>Mystery</th>\n",
       "      <th>Romance</th>\n",
       "      <th>Sci-Fi</th>\n",
       "      <th>Thriller</th>\n",
       "      <th>War</th>\n",
       "      <th>Western</th>\n",
       "      <th>ano</th>\n",
       "    </tr>\n",
       "    <tr>\n",
       "      <th>filmeId</th>\n",
       "      <th></th>\n",
       "      <th></th>\n",
       "      <th></th>\n",
       "      <th></th>\n",
       "      <th></th>\n",
       "      <th></th>\n",
       "      <th></th>\n",
       "      <th></th>\n",
       "      <th></th>\n",
       "      <th></th>\n",
       "      <th></th>\n",
       "      <th></th>\n",
       "      <th></th>\n",
       "      <th></th>\n",
       "      <th></th>\n",
       "      <th></th>\n",
       "      <th></th>\n",
       "      <th></th>\n",
       "      <th></th>\n",
       "      <th></th>\n",
       "      <th></th>\n",
       "      <th></th>\n",
       "    </tr>\n",
       "  </thead>\n",
       "  <tbody>\n",
       "    <tr>\n",
       "      <th>1</th>\n",
       "      <td>Toy Story (1995)</td>\n",
       "      <td>0</td>\n",
       "      <td>0</td>\n",
       "      <td>1</td>\n",
       "      <td>1</td>\n",
       "      <td>1</td>\n",
       "      <td>1</td>\n",
       "      <td>0</td>\n",
       "      <td>0</td>\n",
       "      <td>0</td>\n",
       "      <td>1</td>\n",
       "      <td>0</td>\n",
       "      <td>0</td>\n",
       "      <td>0</td>\n",
       "      <td>0</td>\n",
       "      <td>0</td>\n",
       "      <td>0</td>\n",
       "      <td>0</td>\n",
       "      <td>0</td>\n",
       "      <td>0</td>\n",
       "      <td>0</td>\n",
       "      <td>1995</td>\n",
       "    </tr>\n",
       "    <tr>\n",
       "      <th>2</th>\n",
       "      <td>Jumanji (1995)</td>\n",
       "      <td>0</td>\n",
       "      <td>0</td>\n",
       "      <td>1</td>\n",
       "      <td>0</td>\n",
       "      <td>1</td>\n",
       "      <td>0</td>\n",
       "      <td>0</td>\n",
       "      <td>0</td>\n",
       "      <td>0</td>\n",
       "      <td>1</td>\n",
       "      <td>0</td>\n",
       "      <td>0</td>\n",
       "      <td>0</td>\n",
       "      <td>0</td>\n",
       "      <td>0</td>\n",
       "      <td>0</td>\n",
       "      <td>0</td>\n",
       "      <td>0</td>\n",
       "      <td>0</td>\n",
       "      <td>0</td>\n",
       "      <td>1995</td>\n",
       "    </tr>\n",
       "    <tr>\n",
       "      <th>3</th>\n",
       "      <td>Grumpier Old Men (1995)</td>\n",
       "      <td>0</td>\n",
       "      <td>0</td>\n",
       "      <td>0</td>\n",
       "      <td>0</td>\n",
       "      <td>0</td>\n",
       "      <td>1</td>\n",
       "      <td>0</td>\n",
       "      <td>0</td>\n",
       "      <td>0</td>\n",
       "      <td>0</td>\n",
       "      <td>0</td>\n",
       "      <td>0</td>\n",
       "      <td>0</td>\n",
       "      <td>0</td>\n",
       "      <td>0</td>\n",
       "      <td>1</td>\n",
       "      <td>0</td>\n",
       "      <td>0</td>\n",
       "      <td>0</td>\n",
       "      <td>0</td>\n",
       "      <td>1995</td>\n",
       "    </tr>\n",
       "    <tr>\n",
       "      <th>4</th>\n",
       "      <td>Waiting to Exhale (1995)</td>\n",
       "      <td>0</td>\n",
       "      <td>0</td>\n",
       "      <td>0</td>\n",
       "      <td>0</td>\n",
       "      <td>0</td>\n",
       "      <td>1</td>\n",
       "      <td>0</td>\n",
       "      <td>0</td>\n",
       "      <td>1</td>\n",
       "      <td>0</td>\n",
       "      <td>0</td>\n",
       "      <td>0</td>\n",
       "      <td>0</td>\n",
       "      <td>0</td>\n",
       "      <td>0</td>\n",
       "      <td>1</td>\n",
       "      <td>0</td>\n",
       "      <td>0</td>\n",
       "      <td>0</td>\n",
       "      <td>0</td>\n",
       "      <td>1995</td>\n",
       "    </tr>\n",
       "    <tr>\n",
       "      <th>5</th>\n",
       "      <td>Father of the Bride Part II (1995)</td>\n",
       "      <td>0</td>\n",
       "      <td>0</td>\n",
       "      <td>0</td>\n",
       "      <td>0</td>\n",
       "      <td>0</td>\n",
       "      <td>1</td>\n",
       "      <td>0</td>\n",
       "      <td>0</td>\n",
       "      <td>0</td>\n",
       "      <td>0</td>\n",
       "      <td>0</td>\n",
       "      <td>0</td>\n",
       "      <td>0</td>\n",
       "      <td>0</td>\n",
       "      <td>0</td>\n",
       "      <td>0</td>\n",
       "      <td>0</td>\n",
       "      <td>0</td>\n",
       "      <td>0</td>\n",
       "      <td>0</td>\n",
       "      <td>1995</td>\n",
       "    </tr>\n",
       "  </tbody>\n",
       "</table>\n",
       "</div>"
      ],
      "text/plain": [
       "                                     titulo  (no genres listed)  ...  Western   ano\n",
       "filmeId                                                          ...               \n",
       "1                          Toy Story (1995)                   0  ...        0  1995\n",
       "2                            Jumanji (1995)                   0  ...        0  1995\n",
       "3                   Grumpier Old Men (1995)                   0  ...        0  1995\n",
       "4                  Waiting to Exhale (1995)                   0  ...        0  1995\n",
       "5        Father of the Bride Part II (1995)                   0  ...        0  1995\n",
       "\n",
       "[5 rows x 22 columns]"
      ]
     },
     "execution_count": 69,
     "metadata": {
      "tags": []
     },
     "output_type": "execute_result"
    }
   ],
   "source": [
    "filmes.head() # Imprime as 5 primeiras linhas"
   ]
  },
  {
   "cell_type": "code",
   "execution_count": 0,
   "metadata": {
    "colab": {},
    "colab_type": "code",
    "id": "fCrCRFMZsl30"
   },
   "outputs": [],
   "source": [
    "# PEGA OS DADOS DAS NOTAS DOS FILMES\n",
    "# userId, movieId, rating e timestamp \n",
    "uri = \"https://raw.githubusercontent.com/alura-cursos/introducao-a-data-science/master/aula1.2/ratings.csv\"\n",
    "notas = pd.read_csv(uri)  # data frame # lê as notas dos filmes\n",
    "notas.columns = [\"usuarioId\", \"filmeId\", \"nota\", \"momento\"] # Muda o nome das colunas\n",
    "arredondadas = notas['nota'].round(1) # Arredonda os valores da coluna \"nota\" para que todas tenham apenas 1 casa decimal"
   ]
  },
  {
   "cell_type": "code",
   "execution_count": 71,
   "metadata": {
    "colab": {
     "base_uri": "https://localhost:8080/",
     "height": 204
    },
    "colab_type": "code",
    "executionInfo": {
     "elapsed": 5993,
     "status": "ok",
     "timestamp": 1585157001862,
     "user": {
      "displayName": "Klemerson Castro",
      "photoUrl": "https://lh3.googleusercontent.com/a-/AOh14Ggzj4QczTA45gnWEL1DDR7i2MgcFp-D--Le_dT-vg=s64",
      "userId": "03022081006698772953"
     },
     "user_tz": 240
    },
    "id": "3gEfPXSxxkzM",
    "outputId": "f3fffb31-3b73-4e6b-afe9-e60787944666"
   },
   "outputs": [
    {
     "data": {
      "text/html": [
       "<div>\n",
       "<style scoped>\n",
       "    .dataframe tbody tr th:only-of-type {\n",
       "        vertical-align: middle;\n",
       "    }\n",
       "\n",
       "    .dataframe tbody tr th {\n",
       "        vertical-align: top;\n",
       "    }\n",
       "\n",
       "    .dataframe thead th {\n",
       "        text-align: right;\n",
       "    }\n",
       "</style>\n",
       "<table border=\"1\" class=\"dataframe\">\n",
       "  <thead>\n",
       "    <tr style=\"text-align: right;\">\n",
       "      <th></th>\n",
       "      <th>usuarioId</th>\n",
       "      <th>filmeId</th>\n",
       "      <th>nota</th>\n",
       "      <th>momento</th>\n",
       "    </tr>\n",
       "  </thead>\n",
       "  <tbody>\n",
       "    <tr>\n",
       "      <th>0</th>\n",
       "      <td>1</td>\n",
       "      <td>1</td>\n",
       "      <td>4.0</td>\n",
       "      <td>964982703</td>\n",
       "    </tr>\n",
       "    <tr>\n",
       "      <th>1</th>\n",
       "      <td>1</td>\n",
       "      <td>3</td>\n",
       "      <td>4.0</td>\n",
       "      <td>964981247</td>\n",
       "    </tr>\n",
       "    <tr>\n",
       "      <th>2</th>\n",
       "      <td>1</td>\n",
       "      <td>6</td>\n",
       "      <td>4.0</td>\n",
       "      <td>964982224</td>\n",
       "    </tr>\n",
       "    <tr>\n",
       "      <th>3</th>\n",
       "      <td>1</td>\n",
       "      <td>47</td>\n",
       "      <td>5.0</td>\n",
       "      <td>964983815</td>\n",
       "    </tr>\n",
       "    <tr>\n",
       "      <th>4</th>\n",
       "      <td>1</td>\n",
       "      <td>50</td>\n",
       "      <td>5.0</td>\n",
       "      <td>964982931</td>\n",
       "    </tr>\n",
       "  </tbody>\n",
       "</table>\n",
       "</div>"
      ],
      "text/plain": [
       "   usuarioId  filmeId  nota    momento\n",
       "0          1        1   4.0  964982703\n",
       "1          1        3   4.0  964981247\n",
       "2          1        6   4.0  964982224\n",
       "3          1       47   5.0  964983815\n",
       "4          1       50   5.0  964982931"
      ]
     },
     "execution_count": 71,
     "metadata": {
      "tags": []
     },
     "output_type": "execute_result"
    }
   ],
   "source": [
    "notas.head() # imprime as 5 primeiras notas"
   ]
  },
  {
   "cell_type": "code",
   "execution_count": 0,
   "metadata": {
    "colab": {},
    "colab_type": "code",
    "id": "KgGDj-V_IMyD"
   },
   "outputs": [],
   "source": [
    "nota_media = notas.groupby('filmeId')['nota'].mean() # tira a média das notas dos filmes"
   ]
  },
  {
   "cell_type": "code",
   "execution_count": 73,
   "metadata": {
    "colab": {
     "base_uri": "https://localhost:8080/",
     "height": 136
    },
    "colab_type": "code",
    "executionInfo": {
     "elapsed": 5817,
     "status": "ok",
     "timestamp": 1585157001866,
     "user": {
      "displayName": "Klemerson Castro",
      "photoUrl": "https://lh3.googleusercontent.com/a-/AOh14Ggzj4QczTA45gnWEL1DDR7i2MgcFp-D--Le_dT-vg=s64",
      "userId": "03022081006698772953"
     },
     "user_tz": 240
    },
    "id": "u7HzOjsJO1Zq",
    "outputId": "132185fb-8044-41d9-b4b8-f67f556c3218"
   },
   "outputs": [
    {
     "data": {
      "text/plain": [
       "filmeId\n",
       "1    3.920930\n",
       "2    3.431818\n",
       "3    3.259615\n",
       "4    2.357143\n",
       "5    3.071429\n",
       "Name: nota, dtype: float64"
      ]
     },
     "execution_count": 73,
     "metadata": {
      "tags": []
     },
     "output_type": "execute_result"
    }
   ],
   "source": [
    "nota_media.head() # imprime a media das 5 primeiras notas"
   ]
  },
  {
   "cell_type": "code",
   "execution_count": 0,
   "metadata": {
    "colab": {},
    "colab_type": "code",
    "id": "_UPu1ZJ4JrI3"
   },
   "outputs": [],
   "source": [
    "# Adiciona uma coluna de \"Nota média\" do filme no dataframe de filmes em ordem decrescente e renomeia o nome da coluna de \"nota\" para \"Nota média\"\n",
    "filmes = filmes.join(nota_media).dropna().sort_values('nota', ascending=False).rename(columns={\"nota\":\"Nota média\"})\n",
    "quantidade_nota = notas.groupby(\"filmeId\")[\"momento\"].count() # Conta a quantidade de notas de cada filme\n",
    "filmes = filmes.join(quantidade_nota) # Adiciona a coluna quantidade_nota para mostrar o total de votos de cada filme no dataframe filme\n",
    "filmes = filmes.rename(columns={\"momento\":\"Quantidade de votos\"}) # muda o nome da coluna \"momento\" para \"Quantidade de notas\"\n",
    "filmes = filmes.query(\"`Quantidade de votos`>50\") # Filtra os filmes que possuem mais de 50 votos, descatando os outros\n",
    "filmes[\"Nota média arredondada\"] = (filmes[\"Nota média\"]).round(1).values #Cria uma nova coluna com as médias das notas com apenas uma casa décimal\n"
   ]
  },
  {
   "cell_type": "code",
   "execution_count": 75,
   "metadata": {
    "colab": {
     "base_uri": "https://localhost:8080/",
     "height": 425
    },
    "colab_type": "code",
    "executionInfo": {
     "elapsed": 5698,
     "status": "ok",
     "timestamp": 1585157001869,
     "user": {
      "displayName": "Klemerson Castro",
      "photoUrl": "https://lh3.googleusercontent.com/a-/AOh14Ggzj4QczTA45gnWEL1DDR7i2MgcFp-D--Le_dT-vg=s64",
      "userId": "03022081006698772953"
     },
     "user_tz": 240
    },
    "id": "5k9F3t5xP-LA",
    "outputId": "1a493d11-9669-4516-f287-8f4bba1a1cd2"
   },
   "outputs": [
    {
     "data": {
      "text/html": [
       "<div>\n",
       "<style scoped>\n",
       "    .dataframe tbody tr th:only-of-type {\n",
       "        vertical-align: middle;\n",
       "    }\n",
       "\n",
       "    .dataframe tbody tr th {\n",
       "        vertical-align: top;\n",
       "    }\n",
       "\n",
       "    .dataframe thead th {\n",
       "        text-align: right;\n",
       "    }\n",
       "</style>\n",
       "<table border=\"1\" class=\"dataframe\">\n",
       "  <thead>\n",
       "    <tr style=\"text-align: right;\">\n",
       "      <th></th>\n",
       "      <th>titulo</th>\n",
       "      <th>(no genres listed)</th>\n",
       "      <th>Action</th>\n",
       "      <th>Adventure</th>\n",
       "      <th>Animation</th>\n",
       "      <th>Children</th>\n",
       "      <th>Comedy</th>\n",
       "      <th>Crime</th>\n",
       "      <th>Documentary</th>\n",
       "      <th>Drama</th>\n",
       "      <th>Fantasy</th>\n",
       "      <th>Film-Noir</th>\n",
       "      <th>Horror</th>\n",
       "      <th>IMAX</th>\n",
       "      <th>Musical</th>\n",
       "      <th>Mystery</th>\n",
       "      <th>Romance</th>\n",
       "      <th>Sci-Fi</th>\n",
       "      <th>Thriller</th>\n",
       "      <th>War</th>\n",
       "      <th>Western</th>\n",
       "      <th>ano</th>\n",
       "      <th>Nota média</th>\n",
       "      <th>Quantidade de votos</th>\n",
       "      <th>Nota média arredondada</th>\n",
       "    </tr>\n",
       "    <tr>\n",
       "      <th>filmeId</th>\n",
       "      <th></th>\n",
       "      <th></th>\n",
       "      <th></th>\n",
       "      <th></th>\n",
       "      <th></th>\n",
       "      <th></th>\n",
       "      <th></th>\n",
       "      <th></th>\n",
       "      <th></th>\n",
       "      <th></th>\n",
       "      <th></th>\n",
       "      <th></th>\n",
       "      <th></th>\n",
       "      <th></th>\n",
       "      <th></th>\n",
       "      <th></th>\n",
       "      <th></th>\n",
       "      <th></th>\n",
       "      <th></th>\n",
       "      <th></th>\n",
       "      <th></th>\n",
       "      <th></th>\n",
       "      <th></th>\n",
       "      <th></th>\n",
       "      <th></th>\n",
       "    </tr>\n",
       "  </thead>\n",
       "  <tbody>\n",
       "    <tr>\n",
       "      <th>4963</th>\n",
       "      <td>Ocean's Eleven (2001)</td>\n",
       "      <td>0</td>\n",
       "      <td>0</td>\n",
       "      <td>0</td>\n",
       "      <td>0</td>\n",
       "      <td>0</td>\n",
       "      <td>0</td>\n",
       "      <td>1</td>\n",
       "      <td>0</td>\n",
       "      <td>0</td>\n",
       "      <td>0</td>\n",
       "      <td>0</td>\n",
       "      <td>0</td>\n",
       "      <td>0</td>\n",
       "      <td>0</td>\n",
       "      <td>0</td>\n",
       "      <td>0</td>\n",
       "      <td>0</td>\n",
       "      <td>1</td>\n",
       "      <td>0</td>\n",
       "      <td>0</td>\n",
       "      <td>2001</td>\n",
       "      <td>3.844538</td>\n",
       "      <td>119</td>\n",
       "      <td>3.8</td>\n",
       "    </tr>\n",
       "    <tr>\n",
       "      <th>1917</th>\n",
       "      <td>Armageddon (1998)</td>\n",
       "      <td>0</td>\n",
       "      <td>1</td>\n",
       "      <td>0</td>\n",
       "      <td>0</td>\n",
       "      <td>0</td>\n",
       "      <td>0</td>\n",
       "      <td>0</td>\n",
       "      <td>0</td>\n",
       "      <td>0</td>\n",
       "      <td>0</td>\n",
       "      <td>0</td>\n",
       "      <td>0</td>\n",
       "      <td>0</td>\n",
       "      <td>0</td>\n",
       "      <td>0</td>\n",
       "      <td>1</td>\n",
       "      <td>1</td>\n",
       "      <td>1</td>\n",
       "      <td>0</td>\n",
       "      <td>0</td>\n",
       "      <td>1998</td>\n",
       "      <td>3.054348</td>\n",
       "      <td>92</td>\n",
       "      <td>3.1</td>\n",
       "    </tr>\n",
       "    <tr>\n",
       "      <th>904</th>\n",
       "      <td>Rear Window (1954)</td>\n",
       "      <td>0</td>\n",
       "      <td>0</td>\n",
       "      <td>0</td>\n",
       "      <td>0</td>\n",
       "      <td>0</td>\n",
       "      <td>0</td>\n",
       "      <td>0</td>\n",
       "      <td>0</td>\n",
       "      <td>0</td>\n",
       "      <td>0</td>\n",
       "      <td>0</td>\n",
       "      <td>0</td>\n",
       "      <td>0</td>\n",
       "      <td>0</td>\n",
       "      <td>1</td>\n",
       "      <td>0</td>\n",
       "      <td>0</td>\n",
       "      <td>1</td>\n",
       "      <td>0</td>\n",
       "      <td>0</td>\n",
       "      <td>1954</td>\n",
       "      <td>4.261905</td>\n",
       "      <td>84</td>\n",
       "      <td>4.3</td>\n",
       "    </tr>\n",
       "    <tr>\n",
       "      <th>6377</th>\n",
       "      <td>Finding Nemo (2003)</td>\n",
       "      <td>0</td>\n",
       "      <td>0</td>\n",
       "      <td>1</td>\n",
       "      <td>1</td>\n",
       "      <td>1</td>\n",
       "      <td>1</td>\n",
       "      <td>0</td>\n",
       "      <td>0</td>\n",
       "      <td>0</td>\n",
       "      <td>0</td>\n",
       "      <td>0</td>\n",
       "      <td>0</td>\n",
       "      <td>0</td>\n",
       "      <td>0</td>\n",
       "      <td>0</td>\n",
       "      <td>0</td>\n",
       "      <td>0</td>\n",
       "      <td>0</td>\n",
       "      <td>0</td>\n",
       "      <td>0</td>\n",
       "      <td>2003</td>\n",
       "      <td>3.960993</td>\n",
       "      <td>141</td>\n",
       "      <td>4.0</td>\n",
       "    </tr>\n",
       "    <tr>\n",
       "      <th>163</th>\n",
       "      <td>Desperado (1995)</td>\n",
       "      <td>0</td>\n",
       "      <td>1</td>\n",
       "      <td>0</td>\n",
       "      <td>0</td>\n",
       "      <td>0</td>\n",
       "      <td>0</td>\n",
       "      <td>0</td>\n",
       "      <td>0</td>\n",
       "      <td>0</td>\n",
       "      <td>0</td>\n",
       "      <td>0</td>\n",
       "      <td>0</td>\n",
       "      <td>0</td>\n",
       "      <td>0</td>\n",
       "      <td>0</td>\n",
       "      <td>1</td>\n",
       "      <td>0</td>\n",
       "      <td>0</td>\n",
       "      <td>0</td>\n",
       "      <td>1</td>\n",
       "      <td>1995</td>\n",
       "      <td>3.560606</td>\n",
       "      <td>66</td>\n",
       "      <td>3.6</td>\n",
       "    </tr>\n",
       "  </tbody>\n",
       "</table>\n",
       "</div>"
      ],
      "text/plain": [
       "                        titulo  ...  Nota média arredondada\n",
       "filmeId                         ...                        \n",
       "4963     Ocean's Eleven (2001)  ...                     3.8\n",
       "1917         Armageddon (1998)  ...                     3.1\n",
       "904         Rear Window (1954)  ...                     4.3\n",
       "6377       Finding Nemo (2003)  ...                     4.0\n",
       "163           Desperado (1995)  ...                     3.6\n",
       "\n",
       "[5 rows x 25 columns]"
      ]
     },
     "execution_count": 75,
     "metadata": {
      "tags": []
     },
     "output_type": "execute_result"
    }
   ],
   "source": [
    "random_filmes = filmes.sample(10) # pega 10 filmes aleatórios\n",
    "random_filmes.head()"
   ]
  },
  {
   "cell_type": "code",
   "execution_count": 76,
   "metadata": {
    "colab": {
     "base_uri": "https://localhost:8080/",
     "height": 204
    },
    "colab_type": "code",
    "executionInfo": {
     "elapsed": 5562,
     "status": "ok",
     "timestamp": 1585157001871,
     "user": {
      "displayName": "Klemerson Castro",
      "photoUrl": "https://lh3.googleusercontent.com/a-/AOh14Ggzj4QczTA45gnWEL1DDR7i2MgcFp-D--Le_dT-vg=s64",
      "userId": "03022081006698772953"
     },
     "user_tz": 240
    },
    "id": "Coqd9VZzaYMc",
    "outputId": "128b2a7d-e82b-484a-e07e-e62bde5a82e6"
   },
   "outputs": [
    {
     "data": {
      "text/html": [
       "<div>\n",
       "<style scoped>\n",
       "    .dataframe tbody tr th:only-of-type {\n",
       "        vertical-align: middle;\n",
       "    }\n",
       "\n",
       "    .dataframe tbody tr th {\n",
       "        vertical-align: top;\n",
       "    }\n",
       "\n",
       "    .dataframe thead th {\n",
       "        text-align: right;\n",
       "    }\n",
       "</style>\n",
       "<table border=\"1\" class=\"dataframe\">\n",
       "  <thead>\n",
       "    <tr style=\"text-align: right;\">\n",
       "      <th></th>\n",
       "      <th>usuarioId</th>\n",
       "      <th>filmeId</th>\n",
       "      <th>nota</th>\n",
       "      <th>momento</th>\n",
       "    </tr>\n",
       "  </thead>\n",
       "  <tbody>\n",
       "    <tr>\n",
       "      <th>0</th>\n",
       "      <td>1</td>\n",
       "      <td>1</td>\n",
       "      <td>4.0</td>\n",
       "      <td>964982703</td>\n",
       "    </tr>\n",
       "    <tr>\n",
       "      <th>1</th>\n",
       "      <td>1</td>\n",
       "      <td>3</td>\n",
       "      <td>4.0</td>\n",
       "      <td>964981247</td>\n",
       "    </tr>\n",
       "    <tr>\n",
       "      <th>2</th>\n",
       "      <td>1</td>\n",
       "      <td>6</td>\n",
       "      <td>4.0</td>\n",
       "      <td>964982224</td>\n",
       "    </tr>\n",
       "    <tr>\n",
       "      <th>3</th>\n",
       "      <td>1</td>\n",
       "      <td>47</td>\n",
       "      <td>5.0</td>\n",
       "      <td>964983815</td>\n",
       "    </tr>\n",
       "    <tr>\n",
       "      <th>4</th>\n",
       "      <td>1</td>\n",
       "      <td>50</td>\n",
       "      <td>5.0</td>\n",
       "      <td>964982931</td>\n",
       "    </tr>\n",
       "  </tbody>\n",
       "</table>\n",
       "</div>"
      ],
      "text/plain": [
       "   usuarioId  filmeId  nota    momento\n",
       "0          1        1   4.0  964982703\n",
       "1          1        3   4.0  964981247\n",
       "2          1        6   4.0  964982224\n",
       "3          1       47   5.0  964983815\n",
       "4          1       50   5.0  964982931"
      ]
     },
     "execution_count": 76,
     "metadata": {
      "tags": []
     },
     "output_type": "execute_result"
    }
   ],
   "source": [
    "notas.head()"
   ]
  },
  {
   "cell_type": "markdown",
   "metadata": {
    "colab_type": "text",
    "id": "xYgh9cRfzhjQ"
   },
   "source": [
    "# **Visualizando informações dos dados**"
   ]
  },
  {
   "cell_type": "code",
   "execution_count": 77,
   "metadata": {
    "colab": {
     "base_uri": "https://localhost:8080/",
     "height": 297
    },
    "colab_type": "code",
    "executionInfo": {
     "elapsed": 5506,
     "status": "ok",
     "timestamp": 1585157001875,
     "user": {
      "displayName": "Klemerson Castro",
      "photoUrl": "https://lh3.googleusercontent.com/a-/AOh14Ggzj4QczTA45gnWEL1DDR7i2MgcFp-D--Le_dT-vg=s64",
      "userId": "03022081006698772953"
     },
     "user_tz": 240
    },
    "id": "7mbjOuljUcUP",
    "outputId": "e5071baa-3b09-4cbe-dc1b-5d3fdffdef2f"
   },
   "outputs": [
    {
     "data": {
      "text/html": [
       "<div>\n",
       "<style scoped>\n",
       "    .dataframe tbody tr th:only-of-type {\n",
       "        vertical-align: middle;\n",
       "    }\n",
       "\n",
       "    .dataframe tbody tr th {\n",
       "        vertical-align: top;\n",
       "    }\n",
       "\n",
       "    .dataframe thead th {\n",
       "        text-align: right;\n",
       "    }\n",
       "</style>\n",
       "<table border=\"1\" class=\"dataframe\">\n",
       "  <thead>\n",
       "    <tr style=\"text-align: right;\">\n",
       "      <th></th>\n",
       "      <th>usuarioId</th>\n",
       "      <th>filmeId</th>\n",
       "      <th>nota</th>\n",
       "      <th>momento</th>\n",
       "    </tr>\n",
       "  </thead>\n",
       "  <tbody>\n",
       "    <tr>\n",
       "      <th>count</th>\n",
       "      <td>100836.000000</td>\n",
       "      <td>100836.000000</td>\n",
       "      <td>100836.000000</td>\n",
       "      <td>1.008360e+05</td>\n",
       "    </tr>\n",
       "    <tr>\n",
       "      <th>mean</th>\n",
       "      <td>326.127564</td>\n",
       "      <td>19435.295718</td>\n",
       "      <td>3.501557</td>\n",
       "      <td>1.205946e+09</td>\n",
       "    </tr>\n",
       "    <tr>\n",
       "      <th>std</th>\n",
       "      <td>182.618491</td>\n",
       "      <td>35530.987199</td>\n",
       "      <td>1.042529</td>\n",
       "      <td>2.162610e+08</td>\n",
       "    </tr>\n",
       "    <tr>\n",
       "      <th>min</th>\n",
       "      <td>1.000000</td>\n",
       "      <td>1.000000</td>\n",
       "      <td>0.500000</td>\n",
       "      <td>8.281246e+08</td>\n",
       "    </tr>\n",
       "    <tr>\n",
       "      <th>25%</th>\n",
       "      <td>177.000000</td>\n",
       "      <td>1199.000000</td>\n",
       "      <td>3.000000</td>\n",
       "      <td>1.019124e+09</td>\n",
       "    </tr>\n",
       "    <tr>\n",
       "      <th>50%</th>\n",
       "      <td>325.000000</td>\n",
       "      <td>2991.000000</td>\n",
       "      <td>3.500000</td>\n",
       "      <td>1.186087e+09</td>\n",
       "    </tr>\n",
       "    <tr>\n",
       "      <th>75%</th>\n",
       "      <td>477.000000</td>\n",
       "      <td>8122.000000</td>\n",
       "      <td>4.000000</td>\n",
       "      <td>1.435994e+09</td>\n",
       "    </tr>\n",
       "    <tr>\n",
       "      <th>max</th>\n",
       "      <td>610.000000</td>\n",
       "      <td>193609.000000</td>\n",
       "      <td>5.000000</td>\n",
       "      <td>1.537799e+09</td>\n",
       "    </tr>\n",
       "  </tbody>\n",
       "</table>\n",
       "</div>"
      ],
      "text/plain": [
       "           usuarioId        filmeId           nota       momento\n",
       "count  100836.000000  100836.000000  100836.000000  1.008360e+05\n",
       "mean      326.127564   19435.295718       3.501557  1.205946e+09\n",
       "std       182.618491   35530.987199       1.042529  2.162610e+08\n",
       "min         1.000000       1.000000       0.500000  8.281246e+08\n",
       "25%       177.000000    1199.000000       3.000000  1.019124e+09\n",
       "50%       325.000000    2991.000000       3.500000  1.186087e+09\n",
       "75%       477.000000    8122.000000       4.000000  1.435994e+09\n",
       "max       610.000000  193609.000000       5.000000  1.537799e+09"
      ]
     },
     "execution_count": 77,
     "metadata": {
      "tags": []
     },
     "output_type": "execute_result"
    }
   ],
   "source": [
    "notas.describe()"
   ]
  },
  {
   "cell_type": "code",
   "execution_count": 78,
   "metadata": {
    "colab": {
     "base_uri": "https://localhost:8080/",
     "height": 204
    },
    "colab_type": "code",
    "executionInfo": {
     "elapsed": 5414,
     "status": "ok",
     "timestamp": 1585157001880,
     "user": {
      "displayName": "Klemerson Castro",
      "photoUrl": "https://lh3.googleusercontent.com/a-/AOh14Ggzj4QczTA45gnWEL1DDR7i2MgcFp-D--Le_dT-vg=s64",
      "userId": "03022081006698772953"
     },
     "user_tz": 240
    },
    "id": "rH8FuWLZzJOq",
    "outputId": "a2ec7e78-7def-4e6a-f86f-f7ef65c6478a"
   },
   "outputs": [
    {
     "data": {
      "text/plain": [
       "4.0    26818\n",
       "3.0    20047\n",
       "5.0    13211\n",
       "3.5    13136\n",
       "4.5     8551\n",
       "2.0     7551\n",
       "2.5     5550\n",
       "1.0     2811\n",
       "1.5     1791\n",
       "0.5     1370\n",
       "Name: nota, dtype: int64"
      ]
     },
     "execution_count": 78,
     "metadata": {
      "tags": []
     },
     "output_type": "execute_result"
    }
   ],
   "source": [
    "#Mostra a quantidade de notas de cada nota\n",
    "notas[\"nota\"].value_counts() "
   ]
  },
  {
   "cell_type": "markdown",
   "metadata": {
    "colab_type": "text",
    "id": "rAZXPfQ037Ik"
   },
   "source": [
    "#### **Utilizando o matplotlib pelo pandas**\n",
    "\n",
    "Biblioteca básica para visualização de gráficos"
   ]
  },
  {
   "cell_type": "code",
   "execution_count": 79,
   "metadata": {
    "colab": {
     "base_uri": "https://localhost:8080/",
     "height": 590
    },
    "colab_type": "code",
    "executionInfo": {
     "elapsed": 5323,
     "status": "ok",
     "timestamp": 1585157001882,
     "user": {
      "displayName": "Klemerson Castro",
      "photoUrl": "https://lh3.googleusercontent.com/a-/AOh14Ggzj4QczTA45gnWEL1DDR7i2MgcFp-D--Le_dT-vg=s64",
      "userId": "03022081006698772953"
     },
     "user_tz": 240
    },
    "id": "uDKjq8YUfnBy",
    "outputId": "3f8b3f93-d4d1-4425-8325-4597156f9bc7"
   },
   "outputs": [
    {
     "name": "stderr",
     "output_type": "stream",
     "text": [
      "/usr/local/lib/python3.6/dist-packages/pandas/plotting/_matplotlib/tools.py:307: MatplotlibDeprecationWarning: \n",
      "The rowNum attribute was deprecated in Matplotlib 3.2 and will be removed two minor releases later. Use ax.get_subplotspec().rowspan.start instead.\n",
      "  layout[ax.rowNum, ax.colNum] = ax.get_visible()\n",
      "/usr/local/lib/python3.6/dist-packages/pandas/plotting/_matplotlib/tools.py:307: MatplotlibDeprecationWarning: \n",
      "The colNum attribute was deprecated in Matplotlib 3.2 and will be removed two minor releases later. Use ax.get_subplotspec().colspan.start instead.\n",
      "  layout[ax.rowNum, ax.colNum] = ax.get_visible()\n",
      "/usr/local/lib/python3.6/dist-packages/pandas/plotting/_matplotlib/tools.py:313: MatplotlibDeprecationWarning: \n",
      "The rowNum attribute was deprecated in Matplotlib 3.2 and will be removed two minor releases later. Use ax.get_subplotspec().rowspan.start instead.\n",
      "  if not layout[ax.rowNum + 1, ax.colNum]:\n",
      "/usr/local/lib/python3.6/dist-packages/pandas/plotting/_matplotlib/tools.py:313: MatplotlibDeprecationWarning: \n",
      "The colNum attribute was deprecated in Matplotlib 3.2 and will be removed two minor releases later. Use ax.get_subplotspec().colspan.start instead.\n",
      "  if not layout[ax.rowNum + 1, ax.colNum]:\n"
     ]
    },
    {
     "data": {
      "text/plain": [
       "array([[<matplotlib.axes._subplots.AxesSubplot object at 0x7f3e006c4ac8>,\n",
       "        <matplotlib.axes._subplots.AxesSubplot object at 0x7f3dffdf0b00>],\n",
       "       [<matplotlib.axes._subplots.AxesSubplot object at 0x7f3dfff49d68>,\n",
       "        <matplotlib.axes._subplots.AxesSubplot object at 0x7f3dffbeefd0>]],\n",
       "      dtype=object)"
      ]
     },
     "execution_count": 79,
     "metadata": {
      "tags": []
     },
     "output_type": "execute_result"
    },
    {
     "data": {
      "image/png": "[encoded data removed]",
      "text/plain": [
       "<Figure size 432x288 with 4 Axes>"
      ]
     },
     "metadata": {
      "tags": []
     },
     "output_type": "display_data"
    }
   ],
   "source": [
    "#Plotando histograma de todas as colunas\n",
    "notas.hist()"
   ]
  },
  {
   "cell_type": "code",
   "execution_count": 80,
   "metadata": {
    "colab": {
     "base_uri": "https://localhost:8080/",
     "height": 282
    },
    "colab_type": "code",
    "executionInfo": {
     "elapsed": 5253,
     "status": "ok",
     "timestamp": 1585157001884,
     "user": {
      "displayName": "Klemerson Castro",
      "photoUrl": "https://lh3.googleusercontent.com/a-/AOh14Ggzj4QczTA45gnWEL1DDR7i2MgcFp-D--Le_dT-vg=s64",
      "userId": "03022081006698772953"
     },
     "user_tz": 240
    },
    "id": "MjlndE0tfb7F",
    "outputId": "14487f05-2f02-4f35-f2da-a7be14c48b06"
   },
   "outputs": [
    {
     "data": {
      "text/plain": [
       "<matplotlib.axes._subplots.AxesSubplot at 0x7f3dffc9f8d0>"
      ]
     },
     "execution_count": 80,
     "metadata": {
      "tags": []
     },
     "output_type": "execute_result"
    },
    {
     "data": {
      "image/png": "[encoded data removed]",
      "text/plain": [
       "<Figure size 432x288 with 1 Axes>"
      ]
     },
     "metadata": {
      "tags": []
     },
     "output_type": "display_data"
    }
   ],
   "source": [
    "# Plotando histograma de notas\n",
    "# Mostrando a diferença da quantidade de notas de cada uma\n",
    "notas[\"nota\"].hist()\n",
    "\n",
    "# Mais de 25 mil pessoas deu nota 4, sendo a nota mais dada\n",
    "# Mais ou menos 20 mil pessoas deu nota 3, sendo a segunda nota mais dada"
   ]
  },
  {
   "cell_type": "code",
   "execution_count": 81,
   "metadata": {
    "colab": {
     "base_uri": "https://localhost:8080/",
     "height": 265
    },
    "colab_type": "code",
    "executionInfo": {
     "elapsed": 5215,
     "status": "ok",
     "timestamp": 1585157001886,
     "user": {
      "displayName": "Klemerson Castro",
      "photoUrl": "https://lh3.googleusercontent.com/a-/AOh14Ggzj4QczTA45gnWEL1DDR7i2MgcFp-D--Le_dT-vg=s64",
      "userId": "03022081006698772953"
     },
     "user_tz": 240
    },
    "id": "HL3iZI_Gyr5R",
    "outputId": "fc6a5682-b252-4d31-de55-ecbc99fabf38"
   },
   "outputs": [
    {
     "data": {
      "text/plain": [
       "<matplotlib.axes._subplots.AxesSubplot at 0x7f3dffc17e80>"
      ]
     },
     "execution_count": 81,
     "metadata": {
      "tags": []
     },
     "output_type": "execute_result"
    },
    {
     "data": {
      "image/png": "[encoded data removed]",
      "text/plain": [
       "<Figure size 432x288 with 1 Axes>"
      ]
     },
     "metadata": {
      "tags": []
     },
     "output_type": "display_data"
    }
   ],
   "source": [
    "# Plotando um gráfico de pizza \n",
    "# Mostrando a diferença da quantidade de notas de cada uma.\n",
    "# Não muito boa para esse caso. Sempre é melhor utilizar gráfico de barras para comparar números.\n",
    "notas[\"nota\"].value_counts().plot.pie()"
   ]
  },
  {
   "cell_type": "markdown",
   "metadata": {
    "colab_type": "text",
    "id": "HvlHHK253e9E"
   },
   "source": [
    "#### **Utilizando a biblioteca seaborn**\n",
    "\n",
    "Biblioteca para uso de gráficos já com boas práticas ou tendências"
   ]
  },
  {
   "cell_type": "code",
   "execution_count": 0,
   "metadata": {
    "colab": {},
    "colab_type": "code",
    "id": "RjU7i1_51CQR"
   },
   "outputs": [],
   "source": [
    "import seaborn as sns"
   ]
  },
  {
   "cell_type": "code",
   "execution_count": 83,
   "metadata": {
    "colab": {
     "base_uri": "https://localhost:8080/",
     "height": 295
    },
    "colab_type": "code",
    "executionInfo": {
     "elapsed": 6152,
     "status": "ok",
     "timestamp": 1585157002927,
     "user": {
      "displayName": "Klemerson Castro",
      "photoUrl": "https://lh3.googleusercontent.com/a-/AOh14Ggzj4QczTA45gnWEL1DDR7i2MgcFp-D--Le_dT-vg=s64",
      "userId": "03022081006698772953"
     },
     "user_tz": 240
    },
    "id": "wKLnk2EU0DOf",
    "outputId": "9fb5e629-0fce-4f8c-8aba-ea0fbb98b3da"
   },
   "outputs": [
    {
     "data": {
      "image/png": "[encoded data removed]",
      "text/plain": [
       "<Figure size 432x288 with 1 Axes>"
      ]
     },
     "metadata": {
      "tags": []
     },
     "output_type": "display_data"
    }
   ],
   "source": [
    "# Plotando histograma de notas\n",
    "# Mostrando a diferença da quantidade de notas de cada uma\n",
    "sns.countplot(notas[\"nota\"])\n",
    "#Para colocar um título no gráfico\n",
    "import matplotlib.pyplot as plt\n",
    "plt.title(\"Distribuição das notas\");"
   ]
  },
  {
   "cell_type": "code",
   "execution_count": 84,
   "metadata": {
    "colab": {
     "base_uri": "https://localhost:8080/",
     "height": 296
    },
    "colab_type": "code",
    "executionInfo": {
     "elapsed": 6116,
     "status": "ok",
     "timestamp": 1585157002930,
     "user": {
      "displayName": "Klemerson Castro",
      "photoUrl": "https://lh3.googleusercontent.com/a-/AOh14Ggzj4QczTA45gnWEL1DDR7i2MgcFp-D--Le_dT-vg=s64",
      "userId": "03022081006698772953"
     },
     "user_tz": 240
    },
    "id": "oNMVzWnu5HIZ",
    "outputId": "83391333-32c4-413f-f822-f11e78cfb01c"
   },
   "outputs": [
    {
     "data": {
      "text/plain": [
       "<matplotlib.axes._subplots.AxesSubplot at 0x7f3dffb2ee80>"
      ]
     },
     "execution_count": 84,
     "metadata": {
      "tags": []
     },
     "output_type": "execute_result"
    },
    {
     "data": {
      "image/png": "[encoded data removed]",
      "text/plain": [
       "<Figure size 432x288 with 1 Axes>"
      ]
     },
     "metadata": {
      "tags": []
     },
     "output_type": "display_data"
    }
   ],
   "source": [
    "# Mudando a cor das barras usando a opções de palletas do seaborn\n",
    "palette = sns.color_palette(\"GnBu_d\", 10)\n",
    "sns.countplot(notas[\"nota\"], palette=palette)"
   ]
  },
  {
   "cell_type": "code",
   "execution_count": 85,
   "metadata": {
    "colab": {
     "base_uri": "https://localhost:8080/",
     "height": 296
    },
    "colab_type": "code",
    "executionInfo": {
     "elapsed": 6018,
     "status": "ok",
     "timestamp": 1585157002933,
     "user": {
      "displayName": "Klemerson Castro",
      "photoUrl": "https://lh3.googleusercontent.com/a-/AOh14Ggzj4QczTA45gnWEL1DDR7i2MgcFp-D--Le_dT-vg=s64",
      "userId": "03022081006698772953"
     },
     "user_tz": 240
    },
    "id": "ZGpgQmDm7K7l",
    "outputId": "109c7072-0d7b-4f71-d0f8-4e9775c2a248"
   },
   "outputs": [
    {
     "data": {
      "text/plain": [
       "<matplotlib.axes._subplots.AxesSubplot at 0x7f3e0374e828>"
      ]
     },
     "execution_count": 85,
     "metadata": {
      "tags": []
     },
     "output_type": "execute_result"
    },
    {
     "data": {
      "image/png": "[encoded data removed]",
      "text/plain": [
       "<Figure size 432x288 with 1 Axes>"
      ]
     },
     "metadata": {
      "tags": []
     },
     "output_type": "display_data"
    }
   ],
   "source": [
    "# Plota um histograma mostrando a distribuição da nota média dos filmes\n",
    "sns.distplot(filmes[\"Nota média arredondada\"])"
   ]
  },
  {
   "cell_type": "code",
   "execution_count": 86,
   "metadata": {
    "colab": {
     "base_uri": "https://localhost:8080/",
     "height": 400
    },
    "colab_type": "code",
    "executionInfo": {
     "elapsed": 5959,
     "status": "ok",
     "timestamp": 1585157002940,
     "user": {
      "displayName": "Klemerson Castro",
      "photoUrl": "https://lh3.googleusercontent.com/a-/AOh14Ggzj4QczTA45gnWEL1DDR7i2MgcFp-D--Le_dT-vg=s64",
      "userId": "03022081006698772953"
     },
     "user_tz": 240
    },
    "id": "fbosYLHZ_3ss",
    "outputId": "9cf046ea-a0e9-4eac-fe3f-4832245a2e43"
   },
   "outputs": [
    {
     "data": {
      "image/png": "[encoded data removed]",
      "text/plain": [
       "<Figure size 432x288 with 1 Axes>"
      ]
     },
     "metadata": {
      "tags": []
     },
     "output_type": "display_data"
    }
   ],
   "source": [
    "# Plotando a comparação da média de notas entre 10 filmes\n",
    "p = sns.barplot(data = random_filmes, x = \"titulo\", y = \"Nota média\")\n",
    "# rotacionando em 40º os labels dos tiks (nome dos filmes) com o matplotlib\n",
    "p.set_xticklabels(p.get_xticklabels(), rotation = 40, horizontalalignment = \"right\")\n",
    "plt.title(\"Notas média de 10 filmes\") # Põe um título no gráfico\n",
    "\n",
    "########ZOOM NO EIXO Y DISTORCENDO A REALIDADE!!!!!!!!!!!!!\n",
    "plt.ylim(2.5, 4) #Seta o valor mínimo/limite do eixo y, engana na diferença de notas entre os filmes\n",
    "# Comando para mostrar o plot, não deixando o comando anterior imprimir algumas coisas que não interessa. \n",
    "plt.show()"
   ]
  },
  {
   "cell_type": "code",
   "execution_count": 87,
   "metadata": {
    "colab": {
     "base_uri": "https://localhost:8080/",
     "height": 400
    },
    "colab_type": "code",
    "executionInfo": {
     "elapsed": 5876,
     "status": "ok",
     "timestamp": 1585157002941,
     "user": {
      "displayName": "Klemerson Castro",
      "photoUrl": "https://lh3.googleusercontent.com/a-/AOh14Ggzj4QczTA45gnWEL1DDR7i2MgcFp-D--Le_dT-vg=s64",
      "userId": "03022081006698772953"
     },
     "user_tz": 240
    },
    "id": "nMuscyLA8vTw",
    "outputId": "0c6748a6-47a3-4a2f-b444-6d0d92399338"
   },
   "outputs": [
    {
     "data": {
      "image/png": "[encoded data removed]",
      "text/plain": [
       "<Figure size 432x288 with 1 Axes>"
      ]
     },
     "metadata": {
      "tags": []
     },
     "output_type": "display_data"
    }
   ],
   "source": [
    "#SEM O ZOOM\n",
    "# Plotando a comparação da média de notas entre 10 filmes\n",
    "p = sns.barplot(data = random_filmes, x = \"titulo\", y = \"Nota média\")\n",
    "# rotacionando em 40º os labels dos tiks (nome dos filmes) com o matplotlib\n",
    "p.set_xticklabels(p.get_xticklabels(), rotation = 40, horizontalalignment = \"right\")\n",
    "plt.title(\"Notas média de 10 filmes\") # Põe um título no gráfico\n",
    "#plt.ylim(2.5, 4) #Seta o valor mínimo/limite do eixo y, engana na diferença de notas entre os filmes\n",
    "# Comando para mostrar o plot, não deixando o comando anterior imprimir algumas coisas que não interessa. \n",
    "plt.show()"
   ]
  },
  {
   "cell_type": "code",
   "execution_count": 88,
   "metadata": {
    "colab": {
     "base_uri": "https://localhost:8080/",
     "height": 386
    },
    "colab_type": "code",
    "executionInfo": {
     "elapsed": 6665,
     "status": "ok",
     "timestamp": 1585157003816,
     "user": {
      "displayName": "Klemerson Castro",
      "photoUrl": "https://lh3.googleusercontent.com/a-/AOh14Ggzj4QczTA45gnWEL1DDR7i2MgcFp-D--Le_dT-vg=s64",
      "userId": "03022081006698772953"
     },
     "user_tz": 240
    },
    "id": "X-eN155j7anB",
    "outputId": "58ce0954-142e-4915-fb49-7b1eedb83609"
   },
   "outputs": [
    {
     "data": {
      "text/plain": [
       "<seaborn.axisgrid.FacetGrid at 0x7f3dffee6860>"
      ]
     },
     "execution_count": 88,
     "metadata": {
      "tags": []
     },
     "output_type": "execute_result"
    },
    {
     "data": {
      "image/png": "[encoded data removed]",
      "text/plain": [
       "<Figure size 360x360 with 1 Axes>"
      ]
     },
     "metadata": {
      "tags": []
     },
     "output_type": "display_data"
    }
   ],
   "source": [
    "# Plotando um gráfico de distribuição por categoria\n",
    "# que mostra a média das notas dos filmes que são de \"ação\" e os que \"não são de ação\".\n",
    "sns.catplot(data=filmes, x = \"Action\", y = \"Nota média\")"
   ]
  },
  {
   "cell_type": "code",
   "execution_count": 89,
   "metadata": {
    "colab": {
     "base_uri": "https://localhost:8080/",
     "height": 34
    },
    "colab_type": "code",
    "executionInfo": {
     "elapsed": 6554,
     "status": "ok",
     "timestamp": 1585157003819,
     "user": {
      "displayName": "Klemerson Castro",
      "photoUrl": "https://lh3.googleusercontent.com/a-/AOh14Ggzj4QczTA45gnWEL1DDR7i2MgcFp-D--Le_dT-vg=s64",
      "userId": "03022081006698772953"
     },
     "user_tz": 240
    },
    "id": "qOCT2Inj8W-b",
    "outputId": "07cbb7f5-aff2-47b5-afe9-32bb8ecda8c1"
   },
   "outputs": [
    {
     "data": {
      "text/plain": [
       "'filmeId in (4963,1917,904,6377,163,2529,33794,1207,520,1203)'"
      ]
     },
     "execution_count": 89,
     "metadata": {
      "tags": []
     },
     "output_type": "execute_result"
    }
   ],
   "source": [
    "#Plotando um gráfico de boxplot para mostrar as notas de 10 filmes\n",
    "#Bom para comparar a distribuição de notas de cada filme\n",
    "\n",
    "#Pega os valores do index de random_filmes em formato de str\n",
    "#E junta aos valores a \"vírgula\"\n",
    "ids_aleatorios = \",\".join(random_filmes.index.values.astype(str))\n",
    "\n",
    "# Interpolação uma string dos ids aleatórios\n",
    "query = f\"filmeId in ({ids_aleatorios})\"\n",
    "query"
   ]
  },
  {
   "cell_type": "code",
   "execution_count": 90,
   "metadata": {
    "colab": {
     "base_uri": "https://localhost:8080/",
     "height": 279
    },
    "colab_type": "code",
    "executionInfo": {
     "elapsed": 6498,
     "status": "ok",
     "timestamp": 1585157003831,
     "user": {
      "displayName": "Klemerson Castro",
      "photoUrl": "https://lh3.googleusercontent.com/a-/AOh14Ggzj4QczTA45gnWEL1DDR7i2MgcFp-D--Le_dT-vg=s64",
      "userId": "03022081006698772953"
     },
     "user_tz": 240
    },
    "id": "0JDir8pM8Zb9",
    "outputId": "fa34a82e-5dc1-40d5-f1ef-a95d1eb8694a"
   },
   "outputs": [
    {
     "data": {
      "image/png": "[encoded data removed]",
      "text/plain": [
       "<Figure size 432x288 with 1 Axes>"
      ]
     },
     "metadata": {
      "tags": []
     },
     "output_type": "display_data"
    }
   ],
   "source": [
    "sns.boxplot(data = notas.query(query), x = \"filmeId\", y = \"nota\")\n",
    "plt.show()"
   ]
  },
  {
   "cell_type": "code",
   "execution_count": 0,
   "metadata": {
    "colab": {},
    "colab_type": "code",
    "id": "HBTGAveOZ917"
   },
   "outputs": [],
   "source": []
  }
 ],
 "metadata": {
  "colab": {
   "authorship_tag": "ABX9TyNY38YL1mF/EYwRr3tGWb+Y",
   "collapsed_sections": [],
   "name": "4. Data Visualization.ipynb",
   "provenance": []
  },
  "kernelspec": {
   "display_name": "Python 3",
   "language": "python",
   "name": "python3"
  },
  "language_info": {
   "codemirror_mode": {
    "name": "ipython",
    "version": 3
   },
   "file_extension": ".py",
   "mimetype": "text/x-python",
   "name": "python",
   "nbconvert_exporter": "python",
   "pygments_lexer": "ipython3",
   "version": "3.7.6"
  }
 },
 "nbformat": 4,
 "nbformat_minor": 1
}
